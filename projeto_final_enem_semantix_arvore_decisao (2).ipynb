{
  "nbformat": 4,
  "nbformat_minor": 0,
  "metadata": {
    "colab": {
      "provenance": []
    },
    "kernelspec": {
      "name": "python3",
      "display_name": "Python 3"
    },
    "language_info": {
      "name": "python"
    }
  },
  "cells": [
    {
      "cell_type": "code",
      "source": [
        "import pandas as pd #Biblioteca responsável para fazer a leitura e impressão de bases de dados\n",
        "import numpy as np\n"
      ],
      "metadata": {
        "id": "cf--C1bWsv_V"
      },
      "execution_count": 3,
      "outputs": []
    },
    {
      "cell_type": "code",
      "source": [
        "from sklearn.model_selection import train_test_split"
      ],
      "metadata": {
        "id": "dXkGHmqWK6E_"
      },
      "execution_count": 4,
      "outputs": []
    },
    {
      "cell_type": "code",
      "source": [
        "\n",
        "from sklearn.ensemble import RandomForestRegressor\n"
      ],
      "metadata": {
        "id": "rl1EbzOLQWmQ"
      },
      "execution_count": 5,
      "outputs": []
    },
    {
      "cell_type": "code",
      "source": [
        "from sklearn.metrics import mean_absolute_error,r2_score"
      ],
      "metadata": {
        "id": "8280ftiOWS2r"
      },
      "execution_count": 6,
      "outputs": []
    },
    {
      "cell_type": "code",
      "execution_count": 7,
      "metadata": {
        "id": "__-d24U_EKE-"
      },
      "outputs": [],
      "source": [
        "import seaborn  # Biblioteca para plotar gráficos, será usada para o grafico de heatmap(calor) "
      ]
    },
    {
      "cell_type": "code",
      "source": [
        "import matplotlib\n",
        "import matplotlib.pyplot as plt "
      ],
      "metadata": {
        "id": "peZSIfewg_jO"
      },
      "execution_count": 8,
      "outputs": []
    },
    {
      "cell_type": "code",
      "source": [
        "#aqui irei montar o caminho para buscar o arquivo que subi no drive\n",
        "from google.colab import drive\n",
        "drive.mount('/content/drive')"
      ],
      "metadata": {
        "colab": {
          "base_uri": "https://localhost:8080/"
        },
        "id": "pDHtB-Tfrrqk",
        "outputId": "bbf1087c-5c20-44c7-9169-509ce032ff8c"
      },
      "execution_count": 9,
      "outputs": [
        {
          "output_type": "stream",
          "name": "stdout",
          "text": [
            "Drive already mounted at /content/drive; to attempt to forcibly remount, call drive.mount(\"/content/drive\", force_remount=True).\n"
          ]
        }
      ]
    },
    {
      "cell_type": "code",
      "source": [
        "dados_enem = pd.read_csv('/content/drive/MyDrive/MICRODADOS_ENEM_2021.csv',sep=';',encoding='latin-1')"
      ],
      "metadata": {
        "id": "DNWUQOd70BEb"
      },
      "execution_count": 10,
      "outputs": []
    },
    {
      "cell_type": "markdown",
      "source": [
        "\n",
        "*   fillna = remove os NaN e troca pelo argumento inserido\n",
        "\n"
      ],
      "metadata": {
        "id": "S5rBKpgIIuYD"
      }
    },
    {
      "cell_type": "code",
      "source": [
        "dados_enem[['NU_NOTA_CN', 'NU_NOTA_CH', 'NU_NOTA_LC', 'NU_NOTA_MT','NU_NOTA_REDACAO']] = dados_enem[['NU_NOTA_CN', 'NU_NOTA_CH', 'NU_NOTA_LC', 'NU_NOTA_MT','NU_NOTA_REDACAO']].fillna(0)\n"
      ],
      "metadata": {
        "id": "3dEXoZKibxxi"
      },
      "execution_count": 11,
      "outputs": []
    },
    {
      "cell_type": "markdown",
      "source": [],
      "metadata": {
        "id": "h2hQ73dcJHGP"
      }
    },
    {
      "cell_type": "code",
      "source": [
        "lista_col = ['TP_ESCOLA','TP_FAIXA_ETARIA','TP_ESTADO_CIVIL','Q001','Q002','Q003','Q004', 'NU_NOTA_CN', 'NU_NOTA_CH', 'NU_NOTA_LC', 'NU_NOTA_MT','NU_NOTA_REDACAO']"
      ],
      "metadata": {
        "id": "dmWG4WK-cvnS"
      },
      "execution_count": 12,
      "outputs": []
    },
    {
      "cell_type": "code",
      "source": [
        "df_lista_col_analise = dados_enem[lista_col]\n"
      ],
      "metadata": {
        "id": "3RvoZikwG-nQ"
      },
      "execution_count": 13,
      "outputs": []
    },
    {
      "cell_type": "code",
      "source": [
        "def case_when(*args):\n",
        "    return np.select(\n",
        "        condlist = [args[i] for i in range(0, len(args), 2)],\n",
        "        choicelist = [args[i] for i in range(1, len(args), 2)],\n",
        "        default=pd.NA\n",
        "    )"
      ],
      "metadata": {
        "id": "WGsH6NV3BK7B"
      },
      "execution_count": 14,
      "outputs": []
    },
    {
      "cell_type": "code",
      "source": [
        "df_lista_col_analise[\"SERIEPAI\"] = case_when(df_lista_col_analise[\"Q001\"] == \"A\",1,\n",
        "                                  df_lista_col_analise[\"Q001\"] == \"B\", 2, # Not taken because it's after the first line\n",
        "                                  df_lista_col_analise[\"Q001\"] == \"C\", 3,\n",
        "                                  df_lista_col_analise[\"Q001\"] == \"D\", 4,\n",
        "                                  df_lista_col_analise[\"Q001\"] == \"E\", 5,\n",
        "                                  df_lista_col_analise[\"Q001\"] == \"F\", 6,\n",
        "                                  df_lista_col_analise[\"Q001\"] == \"G\", 7,\n",
        "                                  df_lista_col_analise[\"Q001\"] == \"H\", 8,\n",
        "                                  df_lista_col_analise[\"Q001\"] == \"NaN\", 9,\n",
        "                                  df_lista_col_analise[\"Q001\"].isnull(), 9,\n",
        "                                  True, df_lista_col_analise[\"Q001\"]\n",
        "                                          )\n",
        "\n",
        "df_lista_col_analise[\"SERIEMAE\"] = case_when(df_lista_col_analise[\"Q002\"] == \"A\",1,\n",
        "                                  df_lista_col_analise[\"Q002\"] == \"B\", 2, # Not taken because it's after the first line\n",
        "                                  df_lista_col_analise[\"Q002\"] == \"C\", 3,\n",
        "                                  df_lista_col_analise[\"Q002\"] == \"D\", 4,\n",
        "                                  df_lista_col_analise[\"Q002\"] == \"E\", 5,\n",
        "                                  df_lista_col_analise[\"Q002\"] == \"F\", 6,\n",
        "                                  df_lista_col_analise[\"Q002\"] == \"G\", 7,\n",
        "                                  df_lista_col_analise[\"Q002\"] == \"H\", 8,\n",
        "                                  df_lista_col_analise[\"Q002\"] == \"NaN\", 9,\n",
        "                                  df_lista_col_analise[\"Q002\"].isnull(), 9,\n",
        "                                  True, df_lista_col_analise[\"Q002\"]\n",
        "                                          )\n",
        "\n",
        "df_lista_col_analise[\"OCUPPAI\"] = case_when(df_lista_col_analise[\"Q003\"] == \"A\",1,\n",
        "                                  df_lista_col_analise[\"Q003\"] == \"B\", 2, # Not taken because it's after the first line\n",
        "                                  df_lista_col_analise[\"Q003\"] == \"C\", 3,\n",
        "                                  df_lista_col_analise[\"Q003\"] == \"D\", 4,\n",
        "                                  df_lista_col_analise[\"Q003\"] == \"E\", 5,\n",
        "                                  df_lista_col_analise[\"Q003\"] == \"F\", 6,\n",
        "                                  df_lista_col_analise[\"Q003\"] == \"G\", 7,\n",
        "                                  df_lista_col_analise[\"Q003\"] == \"H\", 8,\n",
        "                                  df_lista_col_analise[\"Q003\"] == \"NaN\", 9,\n",
        "                                  df_lista_col_analise[\"Q003\"].isnull(), 9,\n",
        "                                  True, df_lista_col_analise[\"Q003\"]\n",
        "                                          )\n",
        "\n",
        "df_lista_col_analise[\"OCUPMAE\"] = case_when(df_lista_col_analise[\"Q004\"] == \"A\",1,\n",
        "                                  df_lista_col_analise[\"Q004\"] == \"B\", 2, # Not taken because it's after the first line\n",
        "                                  df_lista_col_analise[\"Q004\"] == \"C\", 3,\n",
        "                                  df_lista_col_analise[\"Q004\"] == \"D\", 4,\n",
        "                                  df_lista_col_analise[\"Q004\"] == \"E\", 5,\n",
        "                                  df_lista_col_analise[\"Q004\"] == \"F\", 6,\n",
        "                                  df_lista_col_analise[\"Q004\"] == \"G\", 7,\n",
        "                                  df_lista_col_analise[\"Q004\"] == \"H\", 8,\n",
        "                                  df_lista_col_analise[\"Q004\"] == \"NaN\", 9,\n",
        "                                  df_lista_col_analise[\"Q004\"].isnull(), 9,\n",
        "                                  True, df_lista_col_analise[\"Q004\"]\n",
        "                                          )"
      ],
      "metadata": {
        "colab": {
          "base_uri": "https://localhost:8080/"
        },
        "id": "xvrBjZnP_SA5",
        "outputId": "42f104f2-1222-4465-cce5-01af80c3a8b9"
      },
      "execution_count": 15,
      "outputs": [
        {
          "output_type": "stream",
          "name": "stderr",
          "text": [
            "<ipython-input-15-4855f862859a>:1: SettingWithCopyWarning: \n",
            "A value is trying to be set on a copy of a slice from a DataFrame.\n",
            "Try using .loc[row_indexer,col_indexer] = value instead\n",
            "\n",
            "See the caveats in the documentation: https://pandas.pydata.org/pandas-docs/stable/user_guide/indexing.html#returning-a-view-versus-a-copy\n",
            "  df_lista_col_analise[\"SERIEPAI\"] = case_when(df_lista_col_analise[\"Q001\"] == \"A\",1,\n",
            "<ipython-input-15-4855f862859a>:14: SettingWithCopyWarning: \n",
            "A value is trying to be set on a copy of a slice from a DataFrame.\n",
            "Try using .loc[row_indexer,col_indexer] = value instead\n",
            "\n",
            "See the caveats in the documentation: https://pandas.pydata.org/pandas-docs/stable/user_guide/indexing.html#returning-a-view-versus-a-copy\n",
            "  df_lista_col_analise[\"SERIEMAE\"] = case_when(df_lista_col_analise[\"Q002\"] == \"A\",1,\n",
            "<ipython-input-15-4855f862859a>:27: SettingWithCopyWarning: \n",
            "A value is trying to be set on a copy of a slice from a DataFrame.\n",
            "Try using .loc[row_indexer,col_indexer] = value instead\n",
            "\n",
            "See the caveats in the documentation: https://pandas.pydata.org/pandas-docs/stable/user_guide/indexing.html#returning-a-view-versus-a-copy\n",
            "  df_lista_col_analise[\"OCUPPAI\"] = case_when(df_lista_col_analise[\"Q003\"] == \"A\",1,\n",
            "<ipython-input-15-4855f862859a>:40: SettingWithCopyWarning: \n",
            "A value is trying to be set on a copy of a slice from a DataFrame.\n",
            "Try using .loc[row_indexer,col_indexer] = value instead\n",
            "\n",
            "See the caveats in the documentation: https://pandas.pydata.org/pandas-docs/stable/user_guide/indexing.html#returning-a-view-versus-a-copy\n",
            "  df_lista_col_analise[\"OCUPMAE\"] = case_when(df_lista_col_analise[\"Q004\"] == \"A\",1,\n"
          ]
        }
      ]
    },
    {
      "cell_type": "code",
      "source": [
        "df_final = df_lista_col_analise.drop(columns=['Q001','Q002','Q003','Q004'])"
      ],
      "metadata": {
        "id": "F2pLjrJQK02T"
      },
      "execution_count": 51,
      "outputs": []
    },
    {
      "cell_type": "code",
      "source": [
        "df_final.head()"
      ],
      "metadata": {
        "colab": {
          "base_uri": "https://localhost:8080/",
          "height": 206
        },
        "id": "myPgHBq2HFTs",
        "outputId": "4e5c0779-b9e1-4b76-ad4a-54cfa641b73c"
      },
      "execution_count": 52,
      "outputs": [
        {
          "output_type": "execute_result",
          "data": {
            "text/plain": [
              "   TP_ESCOLA  TP_FAIXA_ETARIA  TP_ESTADO_CIVIL  NU_NOTA_CN  NU_NOTA_CH  \\\n",
              "0          1                5                1         0.0       574.6   \n",
              "1          1               12                1       505.9       551.8   \n",
              "2          1               13                3         0.0         0.0   \n",
              "3          2                3                1       580.7       678.9   \n",
              "4          2                2                1       497.7       532.4   \n",
              "\n",
              "   NU_NOTA_LC  NU_NOTA_MT  NU_NOTA_REDACAO SERIEPAI SERIEMAE OCUPPAI OCUPMAE  \n",
              "0       472.6         0.0            760.0        6        6       2       2  \n",
              "1       498.3       461.5            560.0        2        2       2       2  \n",
              "2         0.0         0.0              0.0        2        3       3       2  \n",
              "3       638.9       659.5            780.0        2        2       2       2  \n",
              "4       457.6       582.6            780.0        4        5       6       4  "
            ],
            "text/html": [
              "\n",
              "  <div id=\"df-2db332b6-99da-494b-8f0f-9d97ae73d5ea\">\n",
              "    <div class=\"colab-df-container\">\n",
              "      <div>\n",
              "<style scoped>\n",
              "    .dataframe tbody tr th:only-of-type {\n",
              "        vertical-align: middle;\n",
              "    }\n",
              "\n",
              "    .dataframe tbody tr th {\n",
              "        vertical-align: top;\n",
              "    }\n",
              "\n",
              "    .dataframe thead th {\n",
              "        text-align: right;\n",
              "    }\n",
              "</style>\n",
              "<table border=\"1\" class=\"dataframe\">\n",
              "  <thead>\n",
              "    <tr style=\"text-align: right;\">\n",
              "      <th></th>\n",
              "      <th>TP_ESCOLA</th>\n",
              "      <th>TP_FAIXA_ETARIA</th>\n",
              "      <th>TP_ESTADO_CIVIL</th>\n",
              "      <th>NU_NOTA_CN</th>\n",
              "      <th>NU_NOTA_CH</th>\n",
              "      <th>NU_NOTA_LC</th>\n",
              "      <th>NU_NOTA_MT</th>\n",
              "      <th>NU_NOTA_REDACAO</th>\n",
              "      <th>SERIEPAI</th>\n",
              "      <th>SERIEMAE</th>\n",
              "      <th>OCUPPAI</th>\n",
              "      <th>OCUPMAE</th>\n",
              "    </tr>\n",
              "  </thead>\n",
              "  <tbody>\n",
              "    <tr>\n",
              "      <th>0</th>\n",
              "      <td>1</td>\n",
              "      <td>5</td>\n",
              "      <td>1</td>\n",
              "      <td>0.0</td>\n",
              "      <td>574.6</td>\n",
              "      <td>472.6</td>\n",
              "      <td>0.0</td>\n",
              "      <td>760.0</td>\n",
              "      <td>6</td>\n",
              "      <td>6</td>\n",
              "      <td>2</td>\n",
              "      <td>2</td>\n",
              "    </tr>\n",
              "    <tr>\n",
              "      <th>1</th>\n",
              "      <td>1</td>\n",
              "      <td>12</td>\n",
              "      <td>1</td>\n",
              "      <td>505.9</td>\n",
              "      <td>551.8</td>\n",
              "      <td>498.3</td>\n",
              "      <td>461.5</td>\n",
              "      <td>560.0</td>\n",
              "      <td>2</td>\n",
              "      <td>2</td>\n",
              "      <td>2</td>\n",
              "      <td>2</td>\n",
              "    </tr>\n",
              "    <tr>\n",
              "      <th>2</th>\n",
              "      <td>1</td>\n",
              "      <td>13</td>\n",
              "      <td>3</td>\n",
              "      <td>0.0</td>\n",
              "      <td>0.0</td>\n",
              "      <td>0.0</td>\n",
              "      <td>0.0</td>\n",
              "      <td>0.0</td>\n",
              "      <td>2</td>\n",
              "      <td>3</td>\n",
              "      <td>3</td>\n",
              "      <td>2</td>\n",
              "    </tr>\n",
              "    <tr>\n",
              "      <th>3</th>\n",
              "      <td>2</td>\n",
              "      <td>3</td>\n",
              "      <td>1</td>\n",
              "      <td>580.7</td>\n",
              "      <td>678.9</td>\n",
              "      <td>638.9</td>\n",
              "      <td>659.5</td>\n",
              "      <td>780.0</td>\n",
              "      <td>2</td>\n",
              "      <td>2</td>\n",
              "      <td>2</td>\n",
              "      <td>2</td>\n",
              "    </tr>\n",
              "    <tr>\n",
              "      <th>4</th>\n",
              "      <td>2</td>\n",
              "      <td>2</td>\n",
              "      <td>1</td>\n",
              "      <td>497.7</td>\n",
              "      <td>532.4</td>\n",
              "      <td>457.6</td>\n",
              "      <td>582.6</td>\n",
              "      <td>780.0</td>\n",
              "      <td>4</td>\n",
              "      <td>5</td>\n",
              "      <td>6</td>\n",
              "      <td>4</td>\n",
              "    </tr>\n",
              "  </tbody>\n",
              "</table>\n",
              "</div>\n",
              "      <button class=\"colab-df-convert\" onclick=\"convertToInteractive('df-2db332b6-99da-494b-8f0f-9d97ae73d5ea')\"\n",
              "              title=\"Convert this dataframe to an interactive table.\"\n",
              "              style=\"display:none;\">\n",
              "        \n",
              "  <svg xmlns=\"http://www.w3.org/2000/svg\" height=\"24px\"viewBox=\"0 0 24 24\"\n",
              "       width=\"24px\">\n",
              "    <path d=\"M0 0h24v24H0V0z\" fill=\"none\"/>\n",
              "    <path d=\"M18.56 5.44l.94 2.06.94-2.06 2.06-.94-2.06-.94-.94-2.06-.94 2.06-2.06.94zm-11 1L8.5 8.5l.94-2.06 2.06-.94-2.06-.94L8.5 2.5l-.94 2.06-2.06.94zm10 10l.94 2.06.94-2.06 2.06-.94-2.06-.94-.94-2.06-.94 2.06-2.06.94z\"/><path d=\"M17.41 7.96l-1.37-1.37c-.4-.4-.92-.59-1.43-.59-.52 0-1.04.2-1.43.59L10.3 9.45l-7.72 7.72c-.78.78-.78 2.05 0 2.83L4 21.41c.39.39.9.59 1.41.59.51 0 1.02-.2 1.41-.59l7.78-7.78 2.81-2.81c.8-.78.8-2.07 0-2.86zM5.41 20L4 18.59l7.72-7.72 1.47 1.35L5.41 20z\"/>\n",
              "  </svg>\n",
              "      </button>\n",
              "      \n",
              "  <style>\n",
              "    .colab-df-container {\n",
              "      display:flex;\n",
              "      flex-wrap:wrap;\n",
              "      gap: 12px;\n",
              "    }\n",
              "\n",
              "    .colab-df-convert {\n",
              "      background-color: #E8F0FE;\n",
              "      border: none;\n",
              "      border-radius: 50%;\n",
              "      cursor: pointer;\n",
              "      display: none;\n",
              "      fill: #1967D2;\n",
              "      height: 32px;\n",
              "      padding: 0 0 0 0;\n",
              "      width: 32px;\n",
              "    }\n",
              "\n",
              "    .colab-df-convert:hover {\n",
              "      background-color: #E2EBFA;\n",
              "      box-shadow: 0px 1px 2px rgba(60, 64, 67, 0.3), 0px 1px 3px 1px rgba(60, 64, 67, 0.15);\n",
              "      fill: #174EA6;\n",
              "    }\n",
              "\n",
              "    [theme=dark] .colab-df-convert {\n",
              "      background-color: #3B4455;\n",
              "      fill: #D2E3FC;\n",
              "    }\n",
              "\n",
              "    [theme=dark] .colab-df-convert:hover {\n",
              "      background-color: #434B5C;\n",
              "      box-shadow: 0px 1px 3px 1px rgba(0, 0, 0, 0.15);\n",
              "      filter: drop-shadow(0px 1px 2px rgba(0, 0, 0, 0.3));\n",
              "      fill: #FFFFFF;\n",
              "    }\n",
              "  </style>\n",
              "\n",
              "      <script>\n",
              "        const buttonEl =\n",
              "          document.querySelector('#df-2db332b6-99da-494b-8f0f-9d97ae73d5ea button.colab-df-convert');\n",
              "        buttonEl.style.display =\n",
              "          google.colab.kernel.accessAllowed ? 'block' : 'none';\n",
              "\n",
              "        async function convertToInteractive(key) {\n",
              "          const element = document.querySelector('#df-2db332b6-99da-494b-8f0f-9d97ae73d5ea');\n",
              "          const dataTable =\n",
              "            await google.colab.kernel.invokeFunction('convertToInteractive',\n",
              "                                                     [key], {});\n",
              "          if (!dataTable) return;\n",
              "\n",
              "          const docLinkHtml = 'Like what you see? Visit the ' +\n",
              "            '<a target=\"_blank\" href=https://colab.research.google.com/notebooks/data_table.ipynb>data table notebook</a>'\n",
              "            + ' to learn more about interactive tables.';\n",
              "          element.innerHTML = '';\n",
              "          dataTable['output_type'] = 'display_data';\n",
              "          await google.colab.output.renderOutput(dataTable, element);\n",
              "          const docLink = document.createElement('div');\n",
              "          docLink.innerHTML = docLinkHtml;\n",
              "          element.appendChild(docLink);\n",
              "        }\n",
              "      </script>\n",
              "    </div>\n",
              "  </div>\n",
              "  "
            ]
          },
          "metadata": {},
          "execution_count": 52
        }
      ]
    },
    {
      "cell_type": "code",
      "source": [
        "\n",
        "\n",
        "df_decisao = train_test_split(df_final,test_size=0.3,random_state=15)\n"
      ],
      "metadata": {
        "id": "Wc9uB0sWLU1j"
      },
      "execution_count": 53,
      "outputs": []
    },
    {
      "cell_type": "code",
      "source": [
        "df_treino = df_decisao[0]\n",
        "df_teste  = df_decisao[1]"
      ],
      "metadata": {
        "id": "bwNZMedcPE9_"
      },
      "execution_count": 54,
      "outputs": []
    },
    {
      "cell_type": "code",
      "source": [
        "df_teste.head()\n"
      ],
      "metadata": {
        "colab": {
          "base_uri": "https://localhost:8080/",
          "height": 206
        },
        "id": "dWyrBb9dzpBy",
        "outputId": "15cd4ab6-a3e7-440a-c8d5-67b2970e2929"
      },
      "execution_count": 55,
      "outputs": [
        {
          "output_type": "execute_result",
          "data": {
            "text/plain": [
              "         TP_ESCOLA  TP_FAIXA_ETARIA  TP_ESTADO_CIVIL  NU_NOTA_CN  NU_NOTA_CH  \\\n",
              "927044           1               11                1         0.0         0.0   \n",
              "527570           2                2                1       489.1       548.8   \n",
              "2311982          1                7                1         0.0         0.0   \n",
              "1553943          3                2                1       444.5       450.0   \n",
              "372289           1                6                1       488.4       414.7   \n",
              "\n",
              "         NU_NOTA_LC  NU_NOTA_MT  NU_NOTA_REDACAO SERIEPAI SERIEMAE OCUPPAI  \\\n",
              "927044          0.0         0.0              0.0        8        8       6   \n",
              "527570        530.1       513.0            540.0        2        2       1   \n",
              "2311982         0.0         0.0              0.0        8        8       4   \n",
              "1553943       502.4       485.7            560.0        7        6       4   \n",
              "372289        420.0       495.9            440.0        2        3       3   \n",
              "\n",
              "        OCUPMAE  \n",
              "927044        2  \n",
              "527570        1  \n",
              "2311982       4  \n",
              "1553943       2  \n",
              "372289        6  "
            ],
            "text/html": [
              "\n",
              "  <div id=\"df-42d5d79d-6038-4cad-a670-9a3fd2d05d1f\">\n",
              "    <div class=\"colab-df-container\">\n",
              "      <div>\n",
              "<style scoped>\n",
              "    .dataframe tbody tr th:only-of-type {\n",
              "        vertical-align: middle;\n",
              "    }\n",
              "\n",
              "    .dataframe tbody tr th {\n",
              "        vertical-align: top;\n",
              "    }\n",
              "\n",
              "    .dataframe thead th {\n",
              "        text-align: right;\n",
              "    }\n",
              "</style>\n",
              "<table border=\"1\" class=\"dataframe\">\n",
              "  <thead>\n",
              "    <tr style=\"text-align: right;\">\n",
              "      <th></th>\n",
              "      <th>TP_ESCOLA</th>\n",
              "      <th>TP_FAIXA_ETARIA</th>\n",
              "      <th>TP_ESTADO_CIVIL</th>\n",
              "      <th>NU_NOTA_CN</th>\n",
              "      <th>NU_NOTA_CH</th>\n",
              "      <th>NU_NOTA_LC</th>\n",
              "      <th>NU_NOTA_MT</th>\n",
              "      <th>NU_NOTA_REDACAO</th>\n",
              "      <th>SERIEPAI</th>\n",
              "      <th>SERIEMAE</th>\n",
              "      <th>OCUPPAI</th>\n",
              "      <th>OCUPMAE</th>\n",
              "    </tr>\n",
              "  </thead>\n",
              "  <tbody>\n",
              "    <tr>\n",
              "      <th>927044</th>\n",
              "      <td>1</td>\n",
              "      <td>11</td>\n",
              "      <td>1</td>\n",
              "      <td>0.0</td>\n",
              "      <td>0.0</td>\n",
              "      <td>0.0</td>\n",
              "      <td>0.0</td>\n",
              "      <td>0.0</td>\n",
              "      <td>8</td>\n",
              "      <td>8</td>\n",
              "      <td>6</td>\n",
              "      <td>2</td>\n",
              "    </tr>\n",
              "    <tr>\n",
              "      <th>527570</th>\n",
              "      <td>2</td>\n",
              "      <td>2</td>\n",
              "      <td>1</td>\n",
              "      <td>489.1</td>\n",
              "      <td>548.8</td>\n",
              "      <td>530.1</td>\n",
              "      <td>513.0</td>\n",
              "      <td>540.0</td>\n",
              "      <td>2</td>\n",
              "      <td>2</td>\n",
              "      <td>1</td>\n",
              "      <td>1</td>\n",
              "    </tr>\n",
              "    <tr>\n",
              "      <th>2311982</th>\n",
              "      <td>1</td>\n",
              "      <td>7</td>\n",
              "      <td>1</td>\n",
              "      <td>0.0</td>\n",
              "      <td>0.0</td>\n",
              "      <td>0.0</td>\n",
              "      <td>0.0</td>\n",
              "      <td>0.0</td>\n",
              "      <td>8</td>\n",
              "      <td>8</td>\n",
              "      <td>4</td>\n",
              "      <td>4</td>\n",
              "    </tr>\n",
              "    <tr>\n",
              "      <th>1553943</th>\n",
              "      <td>3</td>\n",
              "      <td>2</td>\n",
              "      <td>1</td>\n",
              "      <td>444.5</td>\n",
              "      <td>450.0</td>\n",
              "      <td>502.4</td>\n",
              "      <td>485.7</td>\n",
              "      <td>560.0</td>\n",
              "      <td>7</td>\n",
              "      <td>6</td>\n",
              "      <td>4</td>\n",
              "      <td>2</td>\n",
              "    </tr>\n",
              "    <tr>\n",
              "      <th>372289</th>\n",
              "      <td>1</td>\n",
              "      <td>6</td>\n",
              "      <td>1</td>\n",
              "      <td>488.4</td>\n",
              "      <td>414.7</td>\n",
              "      <td>420.0</td>\n",
              "      <td>495.9</td>\n",
              "      <td>440.0</td>\n",
              "      <td>2</td>\n",
              "      <td>3</td>\n",
              "      <td>3</td>\n",
              "      <td>6</td>\n",
              "    </tr>\n",
              "  </tbody>\n",
              "</table>\n",
              "</div>\n",
              "      <button class=\"colab-df-convert\" onclick=\"convertToInteractive('df-42d5d79d-6038-4cad-a670-9a3fd2d05d1f')\"\n",
              "              title=\"Convert this dataframe to an interactive table.\"\n",
              "              style=\"display:none;\">\n",
              "        \n",
              "  <svg xmlns=\"http://www.w3.org/2000/svg\" height=\"24px\"viewBox=\"0 0 24 24\"\n",
              "       width=\"24px\">\n",
              "    <path d=\"M0 0h24v24H0V0z\" fill=\"none\"/>\n",
              "    <path d=\"M18.56 5.44l.94 2.06.94-2.06 2.06-.94-2.06-.94-.94-2.06-.94 2.06-2.06.94zm-11 1L8.5 8.5l.94-2.06 2.06-.94-2.06-.94L8.5 2.5l-.94 2.06-2.06.94zm10 10l.94 2.06.94-2.06 2.06-.94-2.06-.94-.94-2.06-.94 2.06-2.06.94z\"/><path d=\"M17.41 7.96l-1.37-1.37c-.4-.4-.92-.59-1.43-.59-.52 0-1.04.2-1.43.59L10.3 9.45l-7.72 7.72c-.78.78-.78 2.05 0 2.83L4 21.41c.39.39.9.59 1.41.59.51 0 1.02-.2 1.41-.59l7.78-7.78 2.81-2.81c.8-.78.8-2.07 0-2.86zM5.41 20L4 18.59l7.72-7.72 1.47 1.35L5.41 20z\"/>\n",
              "  </svg>\n",
              "      </button>\n",
              "      \n",
              "  <style>\n",
              "    .colab-df-container {\n",
              "      display:flex;\n",
              "      flex-wrap:wrap;\n",
              "      gap: 12px;\n",
              "    }\n",
              "\n",
              "    .colab-df-convert {\n",
              "      background-color: #E8F0FE;\n",
              "      border: none;\n",
              "      border-radius: 50%;\n",
              "      cursor: pointer;\n",
              "      display: none;\n",
              "      fill: #1967D2;\n",
              "      height: 32px;\n",
              "      padding: 0 0 0 0;\n",
              "      width: 32px;\n",
              "    }\n",
              "\n",
              "    .colab-df-convert:hover {\n",
              "      background-color: #E2EBFA;\n",
              "      box-shadow: 0px 1px 2px rgba(60, 64, 67, 0.3), 0px 1px 3px 1px rgba(60, 64, 67, 0.15);\n",
              "      fill: #174EA6;\n",
              "    }\n",
              "\n",
              "    [theme=dark] .colab-df-convert {\n",
              "      background-color: #3B4455;\n",
              "      fill: #D2E3FC;\n",
              "    }\n",
              "\n",
              "    [theme=dark] .colab-df-convert:hover {\n",
              "      background-color: #434B5C;\n",
              "      box-shadow: 0px 1px 3px 1px rgba(0, 0, 0, 0.15);\n",
              "      filter: drop-shadow(0px 1px 2px rgba(0, 0, 0, 0.3));\n",
              "      fill: #FFFFFF;\n",
              "    }\n",
              "  </style>\n",
              "\n",
              "      <script>\n",
              "        const buttonEl =\n",
              "          document.querySelector('#df-42d5d79d-6038-4cad-a670-9a3fd2d05d1f button.colab-df-convert');\n",
              "        buttonEl.style.display =\n",
              "          google.colab.kernel.accessAllowed ? 'block' : 'none';\n",
              "\n",
              "        async function convertToInteractive(key) {\n",
              "          const element = document.querySelector('#df-42d5d79d-6038-4cad-a670-9a3fd2d05d1f');\n",
              "          const dataTable =\n",
              "            await google.colab.kernel.invokeFunction('convertToInteractive',\n",
              "                                                     [key], {});\n",
              "          if (!dataTable) return;\n",
              "\n",
              "          const docLinkHtml = 'Like what you see? Visit the ' +\n",
              "            '<a target=\"_blank\" href=https://colab.research.google.com/notebooks/data_table.ipynb>data table notebook</a>'\n",
              "            + ' to learn more about interactive tables.';\n",
              "          element.innerHTML = '';\n",
              "          dataTable['output_type'] = 'display_data';\n",
              "          await google.colab.output.renderOutput(dataTable, element);\n",
              "          const docLink = document.createElement('div');\n",
              "          docLink.innerHTML = docLinkHtml;\n",
              "          element.appendChild(docLink);\n",
              "        }\n",
              "      </script>\n",
              "    </div>\n",
              "  </div>\n",
              "  "
            ]
          },
          "metadata": {},
          "execution_count": 55
        }
      ]
    },
    {
      "cell_type": "code",
      "source": [
        "df_treino.head()"
      ],
      "metadata": {
        "colab": {
          "base_uri": "https://localhost:8080/",
          "height": 206
        },
        "id": "lC2gVsrovxSS",
        "outputId": "1436d622-dd57-4cb9-9b6b-b24404711996"
      },
      "execution_count": 56,
      "outputs": [
        {
          "output_type": "execute_result",
          "data": {
            "text/plain": [
              "         TP_ESCOLA  TP_FAIXA_ETARIA  TP_ESTADO_CIVIL  NU_NOTA_CN  NU_NOTA_CH  \\\n",
              "1759002          2                3                1       484.8       538.8   \n",
              "482924           2                2                1       469.2         0.0   \n",
              "307985           2                3                1       361.9       392.1   \n",
              "2898452          1                2                1         0.0       449.3   \n",
              "2402571          2                2                1       542.8       748.3   \n",
              "\n",
              "         NU_NOTA_LC  NU_NOTA_MT  NU_NOTA_REDACAO SERIEPAI SERIEMAE OCUPPAI  \\\n",
              "1759002       411.2       517.7            440.0        5        4       3   \n",
              "482924          0.0       459.8              0.0        2        7       1   \n",
              "307985        410.0       596.0            380.0        2        3       1   \n",
              "2898452       540.8         0.0            360.0        7        7       6   \n",
              "2402571       571.1       606.7            620.0        3        8       1   \n",
              "\n",
              "        OCUPMAE  \n",
              "1759002       2  \n",
              "482924        4  \n",
              "307985        1  \n",
              "2898452       6  \n",
              "2402571       1  "
            ],
            "text/html": [
              "\n",
              "  <div id=\"df-d61953e6-86e8-4013-b2ce-814567bdfa92\">\n",
              "    <div class=\"colab-df-container\">\n",
              "      <div>\n",
              "<style scoped>\n",
              "    .dataframe tbody tr th:only-of-type {\n",
              "        vertical-align: middle;\n",
              "    }\n",
              "\n",
              "    .dataframe tbody tr th {\n",
              "        vertical-align: top;\n",
              "    }\n",
              "\n",
              "    .dataframe thead th {\n",
              "        text-align: right;\n",
              "    }\n",
              "</style>\n",
              "<table border=\"1\" class=\"dataframe\">\n",
              "  <thead>\n",
              "    <tr style=\"text-align: right;\">\n",
              "      <th></th>\n",
              "      <th>TP_ESCOLA</th>\n",
              "      <th>TP_FAIXA_ETARIA</th>\n",
              "      <th>TP_ESTADO_CIVIL</th>\n",
              "      <th>NU_NOTA_CN</th>\n",
              "      <th>NU_NOTA_CH</th>\n",
              "      <th>NU_NOTA_LC</th>\n",
              "      <th>NU_NOTA_MT</th>\n",
              "      <th>NU_NOTA_REDACAO</th>\n",
              "      <th>SERIEPAI</th>\n",
              "      <th>SERIEMAE</th>\n",
              "      <th>OCUPPAI</th>\n",
              "      <th>OCUPMAE</th>\n",
              "    </tr>\n",
              "  </thead>\n",
              "  <tbody>\n",
              "    <tr>\n",
              "      <th>1759002</th>\n",
              "      <td>2</td>\n",
              "      <td>3</td>\n",
              "      <td>1</td>\n",
              "      <td>484.8</td>\n",
              "      <td>538.8</td>\n",
              "      <td>411.2</td>\n",
              "      <td>517.7</td>\n",
              "      <td>440.0</td>\n",
              "      <td>5</td>\n",
              "      <td>4</td>\n",
              "      <td>3</td>\n",
              "      <td>2</td>\n",
              "    </tr>\n",
              "    <tr>\n",
              "      <th>482924</th>\n",
              "      <td>2</td>\n",
              "      <td>2</td>\n",
              "      <td>1</td>\n",
              "      <td>469.2</td>\n",
              "      <td>0.0</td>\n",
              "      <td>0.0</td>\n",
              "      <td>459.8</td>\n",
              "      <td>0.0</td>\n",
              "      <td>2</td>\n",
              "      <td>7</td>\n",
              "      <td>1</td>\n",
              "      <td>4</td>\n",
              "    </tr>\n",
              "    <tr>\n",
              "      <th>307985</th>\n",
              "      <td>2</td>\n",
              "      <td>3</td>\n",
              "      <td>1</td>\n",
              "      <td>361.9</td>\n",
              "      <td>392.1</td>\n",
              "      <td>410.0</td>\n",
              "      <td>596.0</td>\n",
              "      <td>380.0</td>\n",
              "      <td>2</td>\n",
              "      <td>3</td>\n",
              "      <td>1</td>\n",
              "      <td>1</td>\n",
              "    </tr>\n",
              "    <tr>\n",
              "      <th>2898452</th>\n",
              "      <td>1</td>\n",
              "      <td>2</td>\n",
              "      <td>1</td>\n",
              "      <td>0.0</td>\n",
              "      <td>449.3</td>\n",
              "      <td>540.8</td>\n",
              "      <td>0.0</td>\n",
              "      <td>360.0</td>\n",
              "      <td>7</td>\n",
              "      <td>7</td>\n",
              "      <td>6</td>\n",
              "      <td>6</td>\n",
              "    </tr>\n",
              "    <tr>\n",
              "      <th>2402571</th>\n",
              "      <td>2</td>\n",
              "      <td>2</td>\n",
              "      <td>1</td>\n",
              "      <td>542.8</td>\n",
              "      <td>748.3</td>\n",
              "      <td>571.1</td>\n",
              "      <td>606.7</td>\n",
              "      <td>620.0</td>\n",
              "      <td>3</td>\n",
              "      <td>8</td>\n",
              "      <td>1</td>\n",
              "      <td>1</td>\n",
              "    </tr>\n",
              "  </tbody>\n",
              "</table>\n",
              "</div>\n",
              "      <button class=\"colab-df-convert\" onclick=\"convertToInteractive('df-d61953e6-86e8-4013-b2ce-814567bdfa92')\"\n",
              "              title=\"Convert this dataframe to an interactive table.\"\n",
              "              style=\"display:none;\">\n",
              "        \n",
              "  <svg xmlns=\"http://www.w3.org/2000/svg\" height=\"24px\"viewBox=\"0 0 24 24\"\n",
              "       width=\"24px\">\n",
              "    <path d=\"M0 0h24v24H0V0z\" fill=\"none\"/>\n",
              "    <path d=\"M18.56 5.44l.94 2.06.94-2.06 2.06-.94-2.06-.94-.94-2.06-.94 2.06-2.06.94zm-11 1L8.5 8.5l.94-2.06 2.06-.94-2.06-.94L8.5 2.5l-.94 2.06-2.06.94zm10 10l.94 2.06.94-2.06 2.06-.94-2.06-.94-.94-2.06-.94 2.06-2.06.94z\"/><path d=\"M17.41 7.96l-1.37-1.37c-.4-.4-.92-.59-1.43-.59-.52 0-1.04.2-1.43.59L10.3 9.45l-7.72 7.72c-.78.78-.78 2.05 0 2.83L4 21.41c.39.39.9.59 1.41.59.51 0 1.02-.2 1.41-.59l7.78-7.78 2.81-2.81c.8-.78.8-2.07 0-2.86zM5.41 20L4 18.59l7.72-7.72 1.47 1.35L5.41 20z\"/>\n",
              "  </svg>\n",
              "      </button>\n",
              "      \n",
              "  <style>\n",
              "    .colab-df-container {\n",
              "      display:flex;\n",
              "      flex-wrap:wrap;\n",
              "      gap: 12px;\n",
              "    }\n",
              "\n",
              "    .colab-df-convert {\n",
              "      background-color: #E8F0FE;\n",
              "      border: none;\n",
              "      border-radius: 50%;\n",
              "      cursor: pointer;\n",
              "      display: none;\n",
              "      fill: #1967D2;\n",
              "      height: 32px;\n",
              "      padding: 0 0 0 0;\n",
              "      width: 32px;\n",
              "    }\n",
              "\n",
              "    .colab-df-convert:hover {\n",
              "      background-color: #E2EBFA;\n",
              "      box-shadow: 0px 1px 2px rgba(60, 64, 67, 0.3), 0px 1px 3px 1px rgba(60, 64, 67, 0.15);\n",
              "      fill: #174EA6;\n",
              "    }\n",
              "\n",
              "    [theme=dark] .colab-df-convert {\n",
              "      background-color: #3B4455;\n",
              "      fill: #D2E3FC;\n",
              "    }\n",
              "\n",
              "    [theme=dark] .colab-df-convert:hover {\n",
              "      background-color: #434B5C;\n",
              "      box-shadow: 0px 1px 3px 1px rgba(0, 0, 0, 0.15);\n",
              "      filter: drop-shadow(0px 1px 2px rgba(0, 0, 0, 0.3));\n",
              "      fill: #FFFFFF;\n",
              "    }\n",
              "  </style>\n",
              "\n",
              "      <script>\n",
              "        const buttonEl =\n",
              "          document.querySelector('#df-d61953e6-86e8-4013-b2ce-814567bdfa92 button.colab-df-convert');\n",
              "        buttonEl.style.display =\n",
              "          google.colab.kernel.accessAllowed ? 'block' : 'none';\n",
              "\n",
              "        async function convertToInteractive(key) {\n",
              "          const element = document.querySelector('#df-d61953e6-86e8-4013-b2ce-814567bdfa92');\n",
              "          const dataTable =\n",
              "            await google.colab.kernel.invokeFunction('convertToInteractive',\n",
              "                                                     [key], {});\n",
              "          if (!dataTable) return;\n",
              "\n",
              "          const docLinkHtml = 'Like what you see? Visit the ' +\n",
              "            '<a target=\"_blank\" href=https://colab.research.google.com/notebooks/data_table.ipynb>data table notebook</a>'\n",
              "            + ' to learn more about interactive tables.';\n",
              "          element.innerHTML = '';\n",
              "          dataTable['output_type'] = 'display_data';\n",
              "          await google.colab.output.renderOutput(dataTable, element);\n",
              "          const docLink = document.createElement('div');\n",
              "          docLink.innerHTML = docLinkHtml;\n",
              "          element.appendChild(docLink);\n",
              "        }\n",
              "      </script>\n",
              "    </div>\n",
              "  </div>\n",
              "  "
            ]
          },
          "metadata": {},
          "execution_count": 56
        }
      ]
    },
    {
      "cell_type": "code",
      "source": [
        "regr1 = RandomForestRegressor(max_depth=5, random_state=0)"
      ],
      "metadata": {
        "id": "OZaFeICnQ84d"
      },
      "execution_count": 57,
      "outputs": []
    },
    {
      "cell_type": "code",
      "source": [
        "regr1.fit(df_treino[['TP_ESCOLA','TP_FAIXA_ETARIA','TP_ESTADO_CIVIL']],df_treino[['NU_NOTA_CN',\t'NU_NOTA_CH',\t'NU_NOTA_LC',\t'NU_NOTA_MT',\t'NU_NOTA_REDACAO']])\n"
      ],
      "metadata": {
        "colab": {
          "base_uri": "https://localhost:8080/"
        },
        "id": "psgSJ98xTQq_",
        "outputId": "23a8a46f-cb24-4061-e492-a34be16f15fe"
      },
      "execution_count": 58,
      "outputs": [
        {
          "output_type": "execute_result",
          "data": {
            "text/plain": [
              "RandomForestRegressor(max_depth=5, random_state=0)"
            ]
          },
          "metadata": {},
          "execution_count": 58
        }
      ]
    },
    {
      "cell_type": "code",
      "source": [
        "df_teste_pred = regr1.predict(df_teste[['TP_ESCOLA','TP_FAIXA_ETARIA','TP_ESTADO_CIVIL']])"
      ],
      "metadata": {
        "id": "7VpXKP97VBI8"
      },
      "execution_count": 59,
      "outputs": []
    },
    {
      "cell_type": "code",
      "source": [
        "y_true = df_teste[['NU_NOTA_CN',\t'NU_NOTA_CH',\t'NU_NOTA_LC',\t'NU_NOTA_MT',\t'NU_NOTA_REDACAO']]\n",
        "y_pred = df_teste_pred\n",
        "\n"
      ],
      "metadata": {
        "id": "gJPdK4NCVOZt"
      },
      "execution_count": 60,
      "outputs": []
    },
    {
      "cell_type": "code",
      "source": [
        "print(mean_absolute_error(y_true, y_pred))\n",
        "print(r2_score(y_true, y_pred))"
      ],
      "metadata": {
        "colab": {
          "base_uri": "https://localhost:8080/"
        },
        "id": "GHkelZN9Xikx",
        "outputId": "789a5b73-bb20-435d-dc4d-20ad01230a40"
      },
      "execution_count": 63,
      "outputs": [
        {
          "output_type": "stream",
          "name": "stdout",
          "text": [
            "212.59721217322777\n",
            "0.1233129769497799\n"
          ]
        }
      ]
    },
    {
      "cell_type": "code",
      "source": [
        "# plotando valores verdadeiros contra predições\n",
        "plt.plot(y_true, y_pred,'.')\n",
        "\n",
        "# plotando a reta x=y\n",
        "plt.plot(plt.gca().get_ylim(), plt.gca().get_ylim())\n",
        "\n",
        "# legenda dos eixos\n",
        "plt.xlabel('y_true')\n",
        "plt.ylabel('y_pred');"
      ],
      "metadata": {
        "colab": {
          "base_uri": "https://localhost:8080/",
          "height": 280
        },
        "id": "flaGLM7KjASZ",
        "outputId": "01051d23-5db0-4081-af97-55759fd2c032"
      },
      "execution_count": 64,
      "outputs": [
        {
          "output_type": "display_data",
          "data": {
            "text/plain": [
              "<Figure size 432x288 with 1 Axes>"
            ],
            "image/png": "[encoded data removed]"
          },
          "metadata": {
            "needs_background": "light"
          }
        }
      ]
    },
    {
      "cell_type": "code",
      "source": [
        "regr2 = RandomForestRegressor(max_depth=5, random_state=0)"
      ],
      "metadata": {
        "id": "Yo2zjjwMQQ0s"
      },
      "execution_count": 65,
      "outputs": []
    },
    {
      "cell_type": "code",
      "source": [
        "regr2.fit(df_treino[['SERIEPAI','SERIEMAE','OCUPPAI','OCUPMAE']],df_treino[['NU_NOTA_CN',\t'NU_NOTA_CH',\t'NU_NOTA_LC',\t'NU_NOTA_MT',\t'NU_NOTA_REDACAO']])"
      ],
      "metadata": {
        "colab": {
          "base_uri": "https://localhost:8080/"
        },
        "id": "IeUj7tiWI5gT",
        "outputId": "330b4632-67bb-4849-c66b-29237a9e500a"
      },
      "execution_count": 66,
      "outputs": [
        {
          "output_type": "execute_result",
          "data": {
            "text/plain": [
              "RandomForestRegressor(max_depth=5, random_state=0)"
            ]
          },
          "metadata": {},
          "execution_count": 66
        }
      ]
    },
    {
      "cell_type": "code",
      "source": [
        "df2_teste_pred = regr2.predict(df_teste[['SERIEPAI','SERIEMAE','OCUPPAI','OCUPMAE']])"
      ],
      "metadata": {
        "id": "UxnZq1TxI5QB"
      },
      "execution_count": 67,
      "outputs": []
    },
    {
      "cell_type": "code",
      "source": [
        "y_true2 = df_teste[['NU_NOTA_CN',\t'NU_NOTA_CH',\t'NU_NOTA_LC',\t'NU_NOTA_MT',\t'NU_NOTA_REDACAO']]\n",
        "y_pred2 = df2_teste_pred\n",
        "\n"
      ],
      "metadata": {
        "id": "AKExWrK8I-dR"
      },
      "execution_count": 68,
      "outputs": []
    },
    {
      "cell_type": "code",
      "source": [
        "print(mean_absolute_error(y_true2, y_pred2))\n",
        "print(r2_score(y_true2, y_pred2))"
      ],
      "metadata": {
        "colab": {
          "base_uri": "https://localhost:8080/"
        },
        "id": "0mlfA_16JAxB",
        "outputId": "6183f704-a9b3-4f2f-f358-6e2fea5024c3"
      },
      "execution_count": 69,
      "outputs": [
        {
          "output_type": "stream",
          "name": "stdout",
          "text": [
            "220.87787642610857\n",
            "0.09371417649001439\n"
          ]
        }
      ]
    },
    {
      "cell_type": "code",
      "source": [
        "# plotando valores verdadeiros contra predições\n",
        "plt.plot(y_true2, y_pred2,'.')\n",
        "\n",
        "# plotando a reta x=y\n",
        "plt.plot(plt.gca().get_ylim(), plt.gca().get_ylim())\n",
        "\n",
        "# legenda dos eixos\n",
        "plt.xlabel('y_true2')\n",
        "plt.ylabel('y_pred2');"
      ],
      "metadata": {
        "colab": {
          "base_uri": "https://localhost:8080/",
          "height": 280
        },
        "id": "bxooQgyDJFKY",
        "outputId": "02519d2f-6adf-4833-b8ee-8dd9170d50d8"
      },
      "execution_count": 70,
      "outputs": [
        {
          "output_type": "display_data",
          "data": {
            "text/plain": [
              "<Figure size 432x288 with 1 Axes>"
            ],
            "image/png": "[encoded data removed]"
          },
          "metadata": {
            "needs_background": "light"
          }
        }
      ]
    },
    {
      "cell_type": "code",
      "source": [
        "dados_corr = df_final.corr()\n",
        "dados_corr"
      ],
      "metadata": {
        "id": "xmS3oG8xJP76",
        "colab": {
          "base_uri": "https://localhost:8080/",
          "height": 279
        },
        "outputId": "cbd60848-ae54-4941-f70d-4c58eca37e86"
      },
      "execution_count": 71,
      "outputs": [
        {
          "output_type": "execute_result",
          "data": {
            "text/plain": [
              "                 TP_ESCOLA  TP_FAIXA_ETARIA  TP_ESTADO_CIVIL  NU_NOTA_CN  \\\n",
              "TP_ESCOLA         1.000000        -0.400859        -0.103897    0.145104   \n",
              "TP_FAIXA_ETARIA  -0.400859         1.000000         0.313685   -0.272460   \n",
              "TP_ESTADO_CIVIL  -0.103897         0.313685         1.000000   -0.064323   \n",
              "NU_NOTA_CN        0.145104        -0.272460        -0.064323    1.000000   \n",
              "NU_NOTA_CH        0.136115        -0.274181        -0.064568    0.897340   \n",
              "NU_NOTA_LC        0.142451        -0.299494        -0.072508    0.896403   \n",
              "NU_NOTA_MT        0.153742        -0.293911        -0.069913    0.967627   \n",
              "NU_NOTA_REDACAO   0.147155        -0.309577        -0.077718    0.852288   \n",
              "\n",
              "                 NU_NOTA_CH  NU_NOTA_LC  NU_NOTA_MT  NU_NOTA_REDACAO  \n",
              "TP_ESCOLA          0.136115    0.142451    0.153742         0.147155  \n",
              "TP_FAIXA_ETARIA   -0.274181   -0.299494   -0.293911        -0.309577  \n",
              "TP_ESTADO_CIVIL   -0.064568   -0.072508   -0.069913        -0.077718  \n",
              "NU_NOTA_CN         0.897340    0.896403    0.967627         0.852288  \n",
              "NU_NOTA_CH         1.000000    0.976953    0.887550         0.899728  \n",
              "NU_NOTA_LC         0.976953    1.000000    0.886637         0.904206  \n",
              "NU_NOTA_MT         0.887550    0.886637    1.000000         0.852144  \n",
              "NU_NOTA_REDACAO    0.899728    0.904206    0.852144         1.000000  "
            ],
            "text/html": [
              "\n",
              "  <div id=\"df-3a37d89d-e214-45aa-9936-3ffa3a14cbf2\">\n",
              "    <div class=\"colab-df-container\">\n",
              "      <div>\n",
              "<style scoped>\n",
              "    .dataframe tbody tr th:only-of-type {\n",
              "        vertical-align: middle;\n",
              "    }\n",
              "\n",
              "    .dataframe tbody tr th {\n",
              "        vertical-align: top;\n",
              "    }\n",
              "\n",
              "    .dataframe thead th {\n",
              "        text-align: right;\n",
              "    }\n",
              "</style>\n",
              "<table border=\"1\" class=\"dataframe\">\n",
              "  <thead>\n",
              "    <tr style=\"text-align: right;\">\n",
              "      <th></th>\n",
              "      <th>TP_ESCOLA</th>\n",
              "      <th>TP_FAIXA_ETARIA</th>\n",
              "      <th>TP_ESTADO_CIVIL</th>\n",
              "      <th>NU_NOTA_CN</th>\n",
              "      <th>NU_NOTA_CH</th>\n",
              "      <th>NU_NOTA_LC</th>\n",
              "      <th>NU_NOTA_MT</th>\n",
              "      <th>NU_NOTA_REDACAO</th>\n",
              "    </tr>\n",
              "  </thead>\n",
              "  <tbody>\n",
              "    <tr>\n",
              "      <th>TP_ESCOLA</th>\n",
              "      <td>1.000000</td>\n",
              "      <td>-0.400859</td>\n",
              "      <td>-0.103897</td>\n",
              "      <td>0.145104</td>\n",
              "      <td>0.136115</td>\n",
              "      <td>0.142451</td>\n",
              "      <td>0.153742</td>\n",
              "      <td>0.147155</td>\n",
              "    </tr>\n",
              "    <tr>\n",
              "      <th>TP_FAIXA_ETARIA</th>\n",
              "      <td>-0.400859</td>\n",
              "      <td>1.000000</td>\n",
              "      <td>0.313685</td>\n",
              "      <td>-0.272460</td>\n",
              "      <td>-0.274181</td>\n",
              "      <td>-0.299494</td>\n",
              "      <td>-0.293911</td>\n",
              "      <td>-0.309577</td>\n",
              "    </tr>\n",
              "    <tr>\n",
              "      <th>TP_ESTADO_CIVIL</th>\n",
              "      <td>-0.103897</td>\n",
              "      <td>0.313685</td>\n",
              "      <td>1.000000</td>\n",
              "      <td>-0.064323</td>\n",
              "      <td>-0.064568</td>\n",
              "      <td>-0.072508</td>\n",
              "      <td>-0.069913</td>\n",
              "      <td>-0.077718</td>\n",
              "    </tr>\n",
              "    <tr>\n",
              "      <th>NU_NOTA_CN</th>\n",
              "      <td>0.145104</td>\n",
              "      <td>-0.272460</td>\n",
              "      <td>-0.064323</td>\n",
              "      <td>1.000000</td>\n",
              "      <td>0.897340</td>\n",
              "      <td>0.896403</td>\n",
              "      <td>0.967627</td>\n",
              "      <td>0.852288</td>\n",
              "    </tr>\n",
              "    <tr>\n",
              "      <th>NU_NOTA_CH</th>\n",
              "      <td>0.136115</td>\n",
              "      <td>-0.274181</td>\n",
              "      <td>-0.064568</td>\n",
              "      <td>0.897340</td>\n",
              "      <td>1.000000</td>\n",
              "      <td>0.976953</td>\n",
              "      <td>0.887550</td>\n",
              "      <td>0.899728</td>\n",
              "    </tr>\n",
              "    <tr>\n",
              "      <th>NU_NOTA_LC</th>\n",
              "      <td>0.142451</td>\n",
              "      <td>-0.299494</td>\n",
              "      <td>-0.072508</td>\n",
              "      <td>0.896403</td>\n",
              "      <td>0.976953</td>\n",
              "      <td>1.000000</td>\n",
              "      <td>0.886637</td>\n",
              "      <td>0.904206</td>\n",
              "    </tr>\n",
              "    <tr>\n",
              "      <th>NU_NOTA_MT</th>\n",
              "      <td>0.153742</td>\n",
              "      <td>-0.293911</td>\n",
              "      <td>-0.069913</td>\n",
              "      <td>0.967627</td>\n",
              "      <td>0.887550</td>\n",
              "      <td>0.886637</td>\n",
              "      <td>1.000000</td>\n",
              "      <td>0.852144</td>\n",
              "    </tr>\n",
              "    <tr>\n",
              "      <th>NU_NOTA_REDACAO</th>\n",
              "      <td>0.147155</td>\n",
              "      <td>-0.309577</td>\n",
              "      <td>-0.077718</td>\n",
              "      <td>0.852288</td>\n",
              "      <td>0.899728</td>\n",
              "      <td>0.904206</td>\n",
              "      <td>0.852144</td>\n",
              "      <td>1.000000</td>\n",
              "    </tr>\n",
              "  </tbody>\n",
              "</table>\n",
              "</div>\n",
              "      <button class=\"colab-df-convert\" onclick=\"convertToInteractive('df-3a37d89d-e214-45aa-9936-3ffa3a14cbf2')\"\n",
              "              title=\"Convert this dataframe to an interactive table.\"\n",
              "              style=\"display:none;\">\n",
              "        \n",
              "  <svg xmlns=\"http://www.w3.org/2000/svg\" height=\"24px\"viewBox=\"0 0 24 24\"\n",
              "       width=\"24px\">\n",
              "    <path d=\"M0 0h24v24H0V0z\" fill=\"none\"/>\n",
              "    <path d=\"M18.56 5.44l.94 2.06.94-2.06 2.06-.94-2.06-.94-.94-2.06-.94 2.06-2.06.94zm-11 1L8.5 8.5l.94-2.06 2.06-.94-2.06-.94L8.5 2.5l-.94 2.06-2.06.94zm10 10l.94 2.06.94-2.06 2.06-.94-2.06-.94-.94-2.06-.94 2.06-2.06.94z\"/><path d=\"M17.41 7.96l-1.37-1.37c-.4-.4-.92-.59-1.43-.59-.52 0-1.04.2-1.43.59L10.3 9.45l-7.72 7.72c-.78.78-.78 2.05 0 2.83L4 21.41c.39.39.9.59 1.41.59.51 0 1.02-.2 1.41-.59l7.78-7.78 2.81-2.81c.8-.78.8-2.07 0-2.86zM5.41 20L4 18.59l7.72-7.72 1.47 1.35L5.41 20z\"/>\n",
              "  </svg>\n",
              "      </button>\n",
              "      \n",
              "  <style>\n",
              "    .colab-df-container {\n",
              "      display:flex;\n",
              "      flex-wrap:wrap;\n",
              "      gap: 12px;\n",
              "    }\n",
              "\n",
              "    .colab-df-convert {\n",
              "      background-color: #E8F0FE;\n",
              "      border: none;\n",
              "      border-radius: 50%;\n",
              "      cursor: pointer;\n",
              "      display: none;\n",
              "      fill: #1967D2;\n",
              "      height: 32px;\n",
              "      padding: 0 0 0 0;\n",
              "      width: 32px;\n",
              "    }\n",
              "\n",
              "    .colab-df-convert:hover {\n",
              "      background-color: #E2EBFA;\n",
              "      box-shadow: 0px 1px 2px rgba(60, 64, 67, 0.3), 0px 1px 3px 1px rgba(60, 64, 67, 0.15);\n",
              "      fill: #174EA6;\n",
              "    }\n",
              "\n",
              "    [theme=dark] .colab-df-convert {\n",
              "      background-color: #3B4455;\n",
              "      fill: #D2E3FC;\n",
              "    }\n",
              "\n",
              "    [theme=dark] .colab-df-convert:hover {\n",
              "      background-color: #434B5C;\n",
              "      box-shadow: 0px 1px 3px 1px rgba(0, 0, 0, 0.15);\n",
              "      filter: drop-shadow(0px 1px 2px rgba(0, 0, 0, 0.3));\n",
              "      fill: #FFFFFF;\n",
              "    }\n",
              "  </style>\n",
              "\n",
              "      <script>\n",
              "        const buttonEl =\n",
              "          document.querySelector('#df-3a37d89d-e214-45aa-9936-3ffa3a14cbf2 button.colab-df-convert');\n",
              "        buttonEl.style.display =\n",
              "          google.colab.kernel.accessAllowed ? 'block' : 'none';\n",
              "\n",
              "        async function convertToInteractive(key) {\n",
              "          const element = document.querySelector('#df-3a37d89d-e214-45aa-9936-3ffa3a14cbf2');\n",
              "          const dataTable =\n",
              "            await google.colab.kernel.invokeFunction('convertToInteractive',\n",
              "                                                     [key], {});\n",
              "          if (!dataTable) return;\n",
              "\n",
              "          const docLinkHtml = 'Like what you see? Visit the ' +\n",
              "            '<a target=\"_blank\" href=https://colab.research.google.com/notebooks/data_table.ipynb>data table notebook</a>'\n",
              "            + ' to learn more about interactive tables.';\n",
              "          element.innerHTML = '';\n",
              "          dataTable['output_type'] = 'display_data';\n",
              "          await google.colab.output.renderOutput(dataTable, element);\n",
              "          const docLink = document.createElement('div');\n",
              "          docLink.innerHTML = docLinkHtml;\n",
              "          element.appendChild(docLink);\n",
              "        }\n",
              "      </script>\n",
              "    </div>\n",
              "  </div>\n",
              "  "
            ]
          },
          "metadata": {},
          "execution_count": 71
        }
      ]
    },
    {
      "cell_type": "code",
      "source": [
        "seaborn.heatmap(data= dados_corr,\n",
        "                cbar= False,\n",
        "                annot= True,\n",
        "                fmt=\".2f\")"
      ],
      "metadata": {
        "id": "PGKFHPmSHN9U",
        "colab": {
          "base_uri": "https://localhost:8080/",
          "height": 374
        },
        "outputId": "da212a66-ebf5-43b9-c72a-b28a75bb0e89"
      },
      "execution_count": 73,
      "outputs": [
        {
          "output_type": "execute_result",
          "data": {
            "text/plain": [
              "<matplotlib.axes._subplots.AxesSubplot at 0x7fbadb537130>"
            ]
          },
          "metadata": {},
          "execution_count": 73
        },
        {
          "output_type": "display_data",
          "data": {
            "text/plain": [
              "<Figure size 432x288 with 1 Axes>"
            ],
            "image/png": "[encoded data removed]"
          },
          "metadata": {
            "needs_background": "light"
          }
        }
      ]
    },
    {
      "cell_type": "markdown",
      "source": [
        "heatmap (gráfico de calor):\n",
        "\n",
        "* annot = inclui a anotação no gráfico\n",
        "* fmt = formato que a anotação deve ser (.2f) -> float com 2 casas decimais\n",
        "* cbar = remove a barra colorida (nível de calor) da imagem"
      ],
      "metadata": {
        "id": "WgIB6N-nI9LI"
      }
    },
    {
      "cell_type": "markdown",
      "source": [
        "Projeto Final"
      ],
      "metadata": {
        "id": "m_ZNVrCBELU3"
      }
    }
  ]
}